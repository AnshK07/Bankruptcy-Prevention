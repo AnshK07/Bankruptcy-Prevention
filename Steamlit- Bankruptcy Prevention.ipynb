{
 "cells": [
  {
   "cell_type": "code",
   "execution_count": 2,
   "id": "36322496-1c87-42d6-9732-36db9e12d22b",
   "metadata": {},
   "outputs": [
    {
     "data": {
      "text/plain": [
       "['bankruptcy-prevention']"
      ]
     },
     "execution_count": 2,
     "metadata": {},
     "output_type": "execute_result"
    }
   ],
   "source": [
    "import pandas as pd\n",
    "\n",
    "# Load the dataset\n",
    "file_path = \"C:/Users/HP/Bankruptcy.xlsx\"\n",
    "xls = pd.ExcelFile(file_path)\n",
    "\n",
    "# Check sheet names\n",
    "xls.sheet_names"
   ]
  },
  {
   "cell_type": "code",
   "execution_count": 4,
   "id": "97fb3891-1476-4850-8ed9-5adf570f220e",
   "metadata": {},
   "outputs": [
    {
     "name": "stdout",
     "output_type": "stream",
     "text": [
      "Model saved successfully!\n"
     ]
    }
   ],
   "source": [
    "\n",
    "import pickle\n",
    "import numpy as np\n",
    "import pandas as pd\n",
    "from sklearn.model_selection import train_test_split\n",
    "from sklearn.ensemble import RandomForestClassifier\n",
    "\n",
    "# Sample dataset\n",
    "data = pd.DataFrame({\n",
    "    'industrial_risk': [0, 1, 0, 1, 0],\n",
    "    'management_risk': [1, 0, 1, 1, 0],\n",
    "    'financial_flexibility': [0, 1, 1, 0, 1],\n",
    "    'credibility': [1, 0, 0, 1, 1],\n",
    "    'competitiveness': [0, 1, 0, 1, 1],\n",
    "    'operating_risk': [1, 0, 1, 0, 0],\n",
    "    'bankruptcy': [1, 0, 1, 0, 0]\n",
    "})\n",
    "\n",
    "X = data.drop(columns=['bankruptcy'])\n",
    "y = data['bankruptcy']\n",
    "\n",
    "# Split data\n",
    "X_train, X_test, y_train, y_test = train_test_split(X, y, test_size=0.2, random_state=42)\n",
    "\n",
    "# Train model\n",
    "model = RandomForestClassifier(n_estimators=100, random_state=42)\n",
    "model.fit(X_train, y_train)\n",
    "\n",
    "# Save the model\n",
    "with open(\"bankruptcy_model.pkl\", \"wb\") as file:\n",
    "    pickle.dump(model, file)\n",
    "\n",
    "print(\"Model saved successfully!\")\n"
   ]
  },
  {
   "cell_type": "code",
   "execution_count": 6,
   "id": "45d462e5-077a-4ace-b9a9-535c5e71fce5",
   "metadata": {},
   "outputs": [
    {
     "name": "stderr",
     "output_type": "stream",
     "text": [
      "2025-03-21 15:16:42.537 \n",
      "  \u001b[33m\u001b[1mWarning:\u001b[0m to view this Streamlit app on a browser, run it with the following\n",
      "  command:\n",
      "\n",
      "    streamlit run C:\\Users\\HP\\anaconda3\\Lib\\site-packages\\ipykernel_launcher.py [ARGUMENTS]\n"
     ]
    }
   ],
   "source": [
    "import streamlit as st\n",
    "import pickle\n",
    "import numpy as np\n",
    "\n",
    "# Load the trained model\n",
    "with open(\"bankruptcy_model.pkl\", \"rb\") as file:\n",
    "    model = pickle.load(file)\n",
    "\n",
    "# Streamlit UI\n",
    "st.title(\"Bankruptcy Prediction App\")\n",
    "st.write(\"Enter company risk factors to predict bankruptcy:\")\n",
    "\n",
    "# Input fields\n",
    "industrial_risk = st.selectbox(\"Industrial Risk\", [0, 1])\n",
    "management_risk = st.selectbox(\"Management Risk\", [0, 1])\n",
    "financial_flexibility = st.selectbox(\"Financial Flexibility\", [0, 1])\n",
    "credibility = st.selectbox(\"Credibility\", [0, 1])\n",
    "competitiveness = st.selectbox(\"Competitiveness\", [0, 1])\n",
    "operating_risk = st.selectbox(\"Operating Risk\", [0, 1])\n",
    "\n",
    "# Predict button\n",
    "if st.button(\"Predict Bankruptcy\"):\n",
    "    # Prepare input data\n",
    "    data = np.array([[industrial_risk, management_risk, financial_flexibility, credibility, competitiveness, operating_risk]])\n",
    "    prediction = model.predict(data)[0]\n",
    "\n",
    "    # Show result\n",
    "    if prediction == 1:\n",
    "        st.error(\"⚠️ High Risk of Bankruptcy!\")\n",
    "    else:\n",
    "        st.success(\"✅ Low Risk of Bankruptcy\")"
   ]
  },
  {
   "cell_type": "code",
   "execution_count": null,
   "id": "b8093067-f7f4-4035-8389-f3e797f49058",
   "metadata": {},
   "outputs": [],
   "source": [
    "!streamlit run app.py"
   ]
  },
  {
   "cell_type": "code",
   "execution_count": null,
   "id": "0c6a9422-d342-4e60-8a5a-6be01dba18d5",
   "metadata": {},
   "outputs": [],
   "source": []
  }
 ],
 "metadata": {
  "kernelspec": {
   "display_name": "Python 3 (ipykernel)",
   "language": "python",
   "name": "python3"
  },
  "language_info": {
   "codemirror_mode": {
    "name": "ipython",
    "version": 3
   },
   "file_extension": ".py",
   "mimetype": "text/x-python",
   "name": "python",
   "nbconvert_exporter": "python",
   "pygments_lexer": "ipython3",
   "version": "3.12.4"
  }
 },
 "nbformat": 4,
 "nbformat_minor": 5
}
